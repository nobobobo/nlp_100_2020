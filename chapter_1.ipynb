{
 "cells": [
  {
   "cell_type": "code",
   "execution_count": 1,
   "metadata": {},
   "outputs": [],
   "source": [
    "import numpy as np"
   ]
  },
  {
   "cell_type": "markdown",
   "metadata": {},
   "source": [
    "## Chapter 1: Warm-up\n",
    "\n",
    "### 00. Reversed string\n",
    "Obtain the string that arranges letters of the string “stressed” in reverse order (tail to head)."
   ]
  },
  {
   "cell_type": "code",
   "execution_count": 2,
   "metadata": {},
   "outputs": [
    {
     "data": {
      "text/plain": [
       "'desserts'"
      ]
     },
     "execution_count": 2,
     "metadata": {},
     "output_type": "execute_result"
    }
   ],
   "source": [
    "str = 'stressed'\n",
    "str[::-1]"
   ]
  },
  {
   "cell_type": "markdown",
   "metadata": {},
   "source": [
    "### 01. “schooled”\n",
    "\n",
    "Obtain the string that concatenates the 1st, 3rd, 5th, and 7th letters in the string “schooled”.\n",
    "\n"
   ]
  },
  {
   "cell_type": "code",
   "execution_count": 3,
   "metadata": {},
   "outputs": [
    {
     "data": {
      "text/plain": [
       "'shoe'"
      ]
     },
     "execution_count": 3,
     "metadata": {},
     "output_type": "execute_result"
    }
   ],
   "source": [
    "str = 'schooled'\n",
    "str[::2]"
   ]
  },
  {
   "cell_type": "markdown",
   "metadata": {},
   "source": [
    "### 02. “shoe” + “cold” = “schooled”\n",
    "Obtain the string “schooled” by concatenating the letters in “shoe” and “cold” one after the other from head to tail."
   ]
  },
  {
   "cell_type": "code",
   "execution_count": 4,
   "metadata": {},
   "outputs": [
    {
     "data": {
      "text/plain": [
       "'schooled'"
      ]
     },
     "execution_count": 4,
     "metadata": {},
     "output_type": "execute_result"
    }
   ],
   "source": [
    "str = ''\n",
    "for c1, c2 in zip('shoe', 'cold'):\n",
    "    str += c1 + c2\n",
    "\n",
    "str\n"
   ]
  },
  {
   "cell_type": "markdown",
   "metadata": {},
   "source": [
    "### 03. Pi\n",
    "\n",
    "Split the sentence “Now I need a drink, alcoholic of course, after the heavy lectures involving quantum mechanics”. into words, and create a list whose element presents the number of alphabetical letters in the corresponding word."
   ]
  },
  {
   "cell_type": "code",
   "execution_count": 5,
   "metadata": {},
   "outputs": [
    {
     "data": {
      "text/plain": [
       "[3, 1, 4, 1, 6, 9, 2, 7, 5, 3, 5, 8, 9, 7, 9]"
      ]
     },
     "execution_count": 5,
     "metadata": {},
     "output_type": "execute_result"
    }
   ],
   "source": [
    "str = \"Now I need a drink, alcoholic of course, after the heavy lectures involving quantum mechanics\"\n",
    "\n",
    "[len(word) for word in str.split()]"
   ]
  },
  {
   "cell_type": "markdown",
   "metadata": {},
   "source": [
    "### 04. Atomic symbols\n",
    "\n",
    "Split the sentence “Hi He Lied Because Boron Could Not Oxidize Fluorine. New Nations Might Also Sign Peace Security Clause. Arthur King Can”. into words, and extract the first letter from the 1st, 5th, 6th, 7th, 8th, 9th, 15th, 16th, 19th words and the first two letters from the other words. Create an associative array (dictionary object or mapping object) that maps from the extracted string to the position (offset in the sentence) of the corresponding word."
   ]
  },
  {
   "cell_type": "code",
   "execution_count": 6,
   "metadata": {},
   "outputs": [
    {
     "data": {
      "text/plain": [
       "{('Al', 13),\n",
       " ('Ar', 18),\n",
       " ('B', 5),\n",
       " ('Be', 4),\n",
       " ('C', 6),\n",
       " ('Ca', 20),\n",
       " ('Cl', 17),\n",
       " ('F', 9),\n",
       " ('H', 1),\n",
       " ('He', 2),\n",
       " ('K', 19),\n",
       " ('Li', 3),\n",
       " ('Mi', 12),\n",
       " ('N', 7),\n",
       " ('Na', 11),\n",
       " ('Ne', 10),\n",
       " ('O', 8),\n",
       " ('P', 15),\n",
       " ('S', 16),\n",
       " ('Si', 14)}"
      ]
     },
     "execution_count": 6,
     "metadata": {},
     "output_type": "execute_result"
    }
   ],
   "source": [
    "str = \"Hi He Lied Because Boron Could Not Oxidize Fluorine. New Nations Might Also Sign Peace Security Clause. Arthur King Can\"\n",
    "\n",
    "one_char_id = [1,5,6,7,8,9,15,16,19]\n",
    "{(word[0], idx+1) if (idx+1) in one_char_id else (word[:2], idx+1) for idx, word in enumerate(str.split())}"
   ]
  },
  {
   "cell_type": "markdown",
   "metadata": {},
   "source": [
    "### 05. n-gram\n",
    "Implement a function that obtains n-grams from a given sequence object (e.g., string and list). Use this function to obtain word bi-grams and letter bi-grams from the sentence “I am an NLPer”"
   ]
  },
  {
   "cell_type": "code",
   "execution_count": 7,
   "metadata": {},
   "outputs": [
    {
     "name": "stdout",
     "output_type": "stream",
     "text": [
      "['I am', 'am an', 'an NLPer']\n",
      "['I ', ' a', 'am', 'm ', ' a', 'an', 'n ', ' N', 'NL', 'LP', 'Pe', 'er']\n"
     ]
    }
   ],
   "source": [
    "def n_grams(n, list):\n",
    "    return [list[i:i+n]for i in range(len(list)) if i+n <= len(list)]\n",
    "\n",
    "str = 'I am an NLPer'\n",
    "\n",
    "# word bi-grams:\n",
    "word_ls = n_grams(2, str.split())\n",
    "print([' '.join(ls) for ls in word_ls])\n",
    "\n",
    "# letter bi-grams:\n",
    "letter_ls = n_grams(2, list(str))\n",
    "print([''.join(ls) for ls in letter_ls])\n",
    "\n",
    "\n",
    "\n"
   ]
  },
  {
   "cell_type": "markdown",
   "metadata": {},
   "source": [
    "### 06. Set\n",
    "Let the sets of letter bi-grams from the words “paraparaparadise” and “paragraph” $X$ and $Y$, respectively. Obtain the union, intersection, difference of the two sets. In addition, check whether the bigram “se” is included in the sets $X$ and $Y$"
   ]
  },
  {
   "cell_type": "code",
   "execution_count": 8,
   "metadata": {},
   "outputs": [
    {
     "name": "stdout",
     "output_type": "stream",
     "text": [
      "Union:  {'ad', 'ag', 'gr', 'ph', 'ra', 'di', 'se', 'pa', 'is', 'ar', 'ap'}\n",
      "Intersect: {'ra', 'pa', 'ar', 'ap'}\n",
      "\"paraparaparadise\" only:  {'ad', 'se', 'is', 'di'}\n",
      "\"paragraph\" only:  {'ag', 'gr', 'ph'}\n"
     ]
    }
   ],
   "source": [
    "str1 = 'paraparaparadise'\n",
    "str2 = 'paragraph'\n",
    "\n",
    "bi_grams_1 = [''.join(ls) for ls in n_grams(2, list(str1))]\n",
    "bi_grams_2 = [''.join(ls) for ls in n_grams(2, list(str2))]\n",
    "\n",
    "union = set(bi_grams_1) | set(bi_grams_2)\n",
    "intersect = set(bi_grams_1) & set(bi_grams_2)\n",
    "set_1_only =  set(bi_grams_1) - set(bi_grams_2)\n",
    "set_2_only =  set(bi_grams_2) - set(bi_grams_1)\n",
    "\n",
    "print('Union: ', union)\n",
    "print('Intersect:', intersect)\n",
    "print('\"paraparaparadise\" only: ',set_1_only)\n",
    "print('\"paragraph\" only: ',set_2_only)"
   ]
  },
  {
   "cell_type": "code",
   "execution_count": 9,
   "metadata": {},
   "outputs": [
    {
     "data": {
      "text/plain": [
       "False"
      ]
     },
     "execution_count": 9,
     "metadata": {},
     "output_type": "execute_result"
    }
   ],
   "source": [
    "\"se\" in intersect"
   ]
  },
  {
   "cell_type": "markdown",
   "metadata": {},
   "source": [
    "### 07. Template-based sentence generation\n",
    "\n",
    "Implement a function that receives arguments, x, y, and z and returns a string “{y} is {z} at {x}”, where “{x}”, “{y}”, and “{z}” denote the values of x, y, and z, respectively. In addition, confirm the return string by giving the arguments x=12, y=\"temperature\", and z=22.4."
   ]
  },
  {
   "cell_type": "code",
   "execution_count": 10,
   "metadata": {},
   "outputs": [
    {
     "data": {
      "text/plain": [
       "'temperature is 22.4 at 12'"
      ]
     },
     "execution_count": 10,
     "metadata": {},
     "output_type": "execute_result"
    }
   ],
   "source": [
    "def sentence_gen(x, y, z):\n",
    "    return f'{y} is {z} at {x}'\n",
    "\n",
    "sentence_gen(12, 'temperature', 22.4)"
   ]
  },
  {
   "cell_type": "markdown",
   "metadata": {},
   "source": [
    "### 08. cipher textPermalink\n",
    "\n",
    "Implement a function cipher that converts a given string with the specification:\n",
    "\n",
    "* Every alphabetical lowercase letter *c* is converted to a letter whose ASCII code is (219 - [the ASCII code of *c*])\n",
    "* Keep other letters unchanged\n",
    "\n",
    "Use this function to cipher and decipher an English message."
   ]
  },
  {
   "cell_type": "code",
   "execution_count": 11,
   "metadata": {},
   "outputs": [
    {
     "name": "stdout",
     "output_type": "stream",
     "text": [
      "Cipher: Czm I szev z ylggov lu xlow Clxz Cloz\n",
      "Decipher: Can I have a bottle of cold Coca Cola\n"
     ]
    }
   ],
   "source": [
    "def cipher(str):\n",
    "    return ''.join([chr(219-ord(ch)) if ch.islower() else ch for ch in list(str)])\n",
    "\n",
    "str = 'Can I have a bottle of cold Coca Cola'\n",
    "print('Cipher:', cipher(str))\n",
    "print('Decipher:', cipher(cipher(str)))\n"
   ]
  },
  {
   "cell_type": "markdown",
   "metadata": {},
   "source": [
    "### 09. Typoglycemia\n",
    "\n",
    "Write a program with the specification:\n",
    "\n",
    "* Receive a word sequence separated by space\n",
    "* For each word in the sequence:\n",
    "    * If the word is no longer than four letters, keep the word unchanged\n",
    "    * Otherwise,\n",
    "        * Keep the first and last letters unchanged\n",
    "        * Shuffle other letters in other positions (in the middle of the word)\n",
    "        \n",
    "Observe the result by giving a sentence, e.g., “I couldn’t believe that I could actually understand what I was reading : the phenomenal power of the human mind “."
   ]
  },
  {
   "cell_type": "code",
   "execution_count": 12,
   "metadata": {},
   "outputs": [
    {
     "data": {
      "text/plain": [
       "'I cnld’uot bveilee that I culod allcutay uternndasd what I was reniadg : the peehnonaml power of the hmuan mind'"
      ]
     },
     "execution_count": 12,
     "metadata": {},
     "output_type": "execute_result"
    }
   ],
   "source": [
    "import random\n",
    "random.seed(2022)\n",
    "\n",
    "def process_sentence(str):\n",
    "    return [word if len(word) <= 4 else word[0] + ''.join(random.sample(word[1:-1], len(word)-2)) +word[-1]for word in str.split()]\n",
    "\n",
    "str = \"I couldn’t believe that I could actually understand what I was reading : the phenomenal power of the human mind \"\n",
    "\n",
    "' '.join(process_sentence(str))\n"
   ]
  }
 ],
 "metadata": {
  "interpreter": {
   "hash": "aee8b7b246df8f9039afb4144a1f6fd8d2ca17a180786b69acc140d282b71a49"
  },
  "kernelspec": {
   "display_name": "Python 3.7.4 64-bit",
   "language": "python",
   "name": "python3"
  },
  "language_info": {
   "codemirror_mode": {
    "name": "ipython",
    "version": 3
   },
   "file_extension": ".py",
   "mimetype": "text/x-python",
   "name": "python",
   "nbconvert_exporter": "python",
   "pygments_lexer": "ipython3",
   "version": "3.7.6"
  },
  "orig_nbformat": 4
 },
 "nbformat": 4,
 "nbformat_minor": 2
}
